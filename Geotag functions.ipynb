{
 "cells": [
  {
   "cell_type": "markdown",
   "metadata": {},
   "source": [
    "## Functions \n",
    "---\n",
    "\n",
    "This file contains script for extracting metadata from imagery and external details from Google and Zillow APIs.\n",
    "\n",
    "External data from the following APIs are extracted:\n",
    "- Google Street View API\n",
    "- Google Geocoder API\n",
    "- Zillow individual house prices and details \n",
    "\n",
    "**Note: In order to use these APIs, keys from Google and Zillow must be obtained.**"
   ]
  },
  {
   "cell_type": "code",
   "execution_count": 1,
   "metadata": {},
   "outputs": [],
   "source": [
    "# Modules that need to be installed are pillow, google_streetview, googlemaps, pygeocoder\n",
    "py_modules =['pillow','google_streetview', 'googlemaps','pygeocoder']"
   ]
  },
  {
   "cell_type": "code",
   "execution_count": 2,
   "metadata": {},
   "outputs": [],
   "source": [
    "## Install the following modules in your device\n",
    "# %pip install pillow\n",
    "# %pip install google_streetview\n",
    "# %pip install googlemaps\n",
    "# %pip install pygeocoder\n",
    "# %pip install pyzillow"
   ]
  },
  {
   "cell_type": "code",
   "execution_count": 3,
   "metadata": {},
   "outputs": [],
   "source": [
    "## Pillow is used to extract data from Imagery ##\n",
    "\n",
    "\n",
    "# Importing the image library pillow\n",
    "\n",
    "from PIL import Image\n",
    "from PIL.ExifTags import TAGS, GPSTAGS\n",
    "\n",
    "# Import google_streetview for the api module\n",
    "import googlemaps\n",
    "import google_streetview.api\n",
    "import google_streetview\n",
    "\n",
    "import json\n",
    "\n",
    "# Importing for reversing to the address\n",
    "\n",
    "from pygeocoder import Geocoder"
   ]
  },
  {
   "cell_type": "code",
   "execution_count": 4,
   "metadata": {},
   "outputs": [],
   "source": [
    "def get_exif(filename):\n",
    "    \"\"\"Function for extracting GPS data from image\n",
    "        Args:\n",
    "            img (.jpeg / .png et al.): an image file Note: Photos\n",
    "        Output:\n",
    "            Will first validate whether or not we have a valid image file and then output the \n",
    "            metadata in form of a dictionary \"\"\"\n",
    "    try:\n",
    "        image = Image.open(filename)\n",
    "        image.verify()    #Image verify won't output anything if the image is in the correct format\n",
    "        exif = image._getexif()\n",
    "        if exif is not None:\n",
    "            for key, value in exif.items():\n",
    "                name = TAGS.get(key, key)\n",
    "                exif[name] = exif.pop(key)\n",
    "            \n",
    "    except:\n",
    "        raise ValueError(\"\"\"Please upload a valid jpg or png file do not use airdrop or messaging apps like WhatsApp \n",
    "                         or Slack to transfer images. Emailing will keep all of the metadata.\"\"\")\n",
    "    \n",
    "        \n",
    "    return exif\n"
   ]
  },
  {
   "cell_type": "code",
   "execution_count": 5,
   "metadata": {},
   "outputs": [],
   "source": [
    "def get_geotagging(exif):\n",
    "    \n",
    "    \n",
    "    \"\"\" Returns:\n",
    "        Dictionary with following key: value pairs:\n",
    "            'GPSVersionID':  bytes, \n",
    "            'GPSLatitudeRef': str = 'N' or 'S',\n",
    "            'GPSLatitude': tuple of tuples,\n",
    "            'GPSLongitudeRef': str = 'E' or 'W',\n",
    "            'GPSLongitude': tuple of tuples,\n",
    "            'GPSAltitudeRef': byte string,\n",
    "            'GPSAltitude': tuple,\n",
    "            'GPSTimeStamp': tuple of tuples,\n",
    "            'GPSSatellites':,\n",
    "            'GPSStatus':,\n",
    "            'GPSMeasureMode':,\n",
    "            'GPSDOP':,\n",
    "            'GPSSpeedRef': str,\n",
    "            'GPSSpeed': tuple,\n",
    "            'GPSImgDirectionRef': str,\n",
    "            'GPSImgDirection': tuple,\n",
    "            'GPSDestBearingRef': str,\n",
    "            'GPSDestBearing': tuple,\n",
    "            'GPSDateStamp': str representing datetime,\n",
    "            'GPSDifferential',\n",
    "            'GPSHPositioningError': tuple,\n",
    "            'GPSTrackRef',\n",
    "            'GPSTrack',\n",
    "            'GPSMapDatum',\n",
    "            'GPSDestLatitudeRef',\n",
    "            'GPSDestLatitude',\n",
    "            'GPSDestLongitudeRef',\n",
    "            'GPSDestLongitude',\n",
    "            'GPSDestDistanceRef',\n",
    "            'GPSDestDistance',\n",
    "            'GPSProcessingMethod',\n",
    "            'GPSAreaInformation',\n",
    "\n",
    "                }\n",
    "    \"\"\"\n",
    "   \n",
    "    if not exif:\n",
    "        raise ValueError(\"No metadata found please check your camera settings\")\n",
    "\n",
    "    geotagging = {}\n",
    "    for (idx, tag) in TAGS.items():\n",
    "        if tag == 'GPSInfo':\n",
    "            geotagging= exif[tag]\n",
    "                \n",
    "    new = {GPSTAGS[k]: v for k,v in geotagging.items()}\n",
    "\n",
    "    return new\n",
    "\n",
    "\n",
    "       "
   ]
  },
  {
   "cell_type": "markdown",
   "metadata": {},
   "source": [
    "# Convert to degrees"
   ]
  },
  {
   "cell_type": "code",
   "execution_count": 6,
   "metadata": {},
   "outputs": [],
   "source": [
    "def to_degrees(coord,direc):\n",
    "    deg_num, deg_denom = coord[0]\n",
    "    d = float(deg_num)/float(deg_denom)\n",
    "    \n",
    "    min_num, min_denom = coord[1]\n",
    "    m = float(min_num)/float(min_denom)\n",
    "    #Seconds are optional \n",
    "    try:\n",
    "        sec_num, sec_denom = coord[2]\n",
    "        s = float(sec_num)/float(sec_denom)\n",
    "    except:\n",
    "        s = 0\n",
    "    \n",
    "    if direc == 'N' or direc == 'E':\n",
    "        sign = 1\n",
    "    elif direc == 'S' or direc == 'W':\n",
    "        sign = -1 \n",
    "    \n",
    "    \n",
    "    return sign*(d + m/(60.00)+s/(3600.00)) \n",
    "            "
   ]
  },
  {
   "cell_type": "code",
   "execution_count": null,
   "metadata": {},
   "outputs": [],
   "source": [
    "get_exif('/')"
   ]
  },
  {
   "cell_type": "markdown",
   "metadata": {},
   "source": [
    "## Putting in the Google API"
   ]
  },
  {
   "cell_type": "code",
   "execution_count": 7,
   "metadata": {},
   "outputs": [],
   "source": [
    "view = google_streetview"
   ]
  },
  {
   "cell_type": "code",
   "execution_count": 8,
   "metadata": {},
   "outputs": [],
   "source": [
    "with open('credentials.json') as json_file:\n",
    "    credential = json.load(json_file)"
   ]
  },
  {
   "cell_type": "code",
   "execution_count": 9,
   "metadata": {},
   "outputs": [],
   "source": [
    "gmaps = googlemaps.Client(credential['google-api-key'])"
   ]
  },
  {
   "cell_type": "code",
   "execution_count": 10,
   "metadata": {},
   "outputs": [],
   "source": [
    "# Define parameters for street view api\n",
    "def google_streetviewer(location, key='YOURAPIKEY'):\n",
    "    params = [{\n",
    "    'size': '600x300', # max 640x640 pixels\n",
    "    'location': location ,\n",
    "    'heading': '151.78',\n",
    "    'pitch': '-0.76',\n",
    "    'key': key\n",
    "    }]\n",
    "\n",
    "    # Create a results object\n",
    "    results = google_streetview.api.results(params)\n",
    "\n",
    "    # Download images to directory 'downloads'\n",
    "    return results.download_links('google-pics')"
   ]
  },
  {
   "cell_type": "code",
   "execution_count": null,
   "metadata": {},
   "outputs": [],
   "source": []
  },
  {
   "cell_type": "markdown",
   "metadata": {},
   "source": [
    "## Setting up the Google API to show the address"
   ]
  },
  {
   "cell_type": "code",
   "execution_count": 11,
   "metadata": {},
   "outputs": [],
   "source": [
    "def reverse_lookup(lat, long, key='YOURAPIKEY'):\n",
    "    \"\"\"Function for lookup of addresses from latitude, longitude details using Google Maps API\n",
    "    Args:\n",
    "        lat (float): latitude as float\n",
    "        long (float): longitude as float\n",
    "        key (str): (default='YOURAPIKEYHERE') google maps api key\n",
    "    Returns:\n",
    "        returns a tuple with address (str), zipcode (str)\n",
    "        \"\"\"\n",
    "    result = str(Geocoder(api_key=key).reverse_geocode(lat, long))\n",
    "    location_details = result.split(\",\")\n",
    "    address = location_details[0]\n",
    "    zipcode = location_details[-2]\n",
    "    city = location_details[1]\n",
    "    state = location_details[2].split(\" \")[1]\n",
    "    return address, zipcode, city, state"
   ]
  },
  {
   "cell_type": "markdown",
   "metadata": {},
   "source": [
    "## Setting up the Zillow API"
   ]
  },
  {
   "cell_type": "code",
   "execution_count": null,
   "metadata": {},
   "outputs": [],
   "source": []
  },
  {
   "cell_type": "code",
   "execution_count": 12,
   "metadata": {},
   "outputs": [],
   "source": [
    "#Packages used for the Zillow API\n",
    "\n",
    "from pyzillow.pyzillow import ZillowWrapper, GetDeepSearchResults, GetUpdatedPropertyDetails\n",
    "\n",
    "def zillow_query(key, address,citystatezip):\n",
    "    \n",
    "    zillow =[]\n",
    "    zillow_data =  ZillowWrapper(key)\n",
    "    deep_search_response = zillow_data.get_deep_search_results(\n",
    "        address, citystatezip)\n",
    "    result = GetDeepSearchResults(deep_search_response)\n",
    "    \n",
    "\n",
    "#Print the results of the query \n",
    "\n",
    "    return result"
   ]
  },
  {
   "cell_type": "code",
   "execution_count": 25,
   "metadata": {},
   "outputs": [],
   "source": []
  },
  {
   "cell_type": "code",
   "execution_count": 26,
   "metadata": {},
   "outputs": [
    {
     "data": {
      "text/plain": [
       "{'data': <Element 'results' at 0x10e715048>,\n",
       " 'zillow_id': '113501804',\n",
       " 'home_type': 'Condominium',\n",
       " 'home_detail_link': 'http://www.zillow.com/homedetails/108-S-Croft-Ave-103-Los-Angeles-CA-90048/113501804_zpid/',\n",
       " 'graph_data_link': 'http://www.zillow.com/homedetails/108-S-Croft-Ave-103-Los-Angeles-CA-90048/113501804_zpid/#charts-and-data',\n",
       " 'map_this_home_link': 'http://www.zillow.com/homes/113501804_zpid/',\n",
       " 'latitude': '34.074254',\n",
       " 'longitude': '-118.373865',\n",
       " 'tax_year': '2018',\n",
       " 'tax_value': '685520.0',\n",
       " 'year_built': '2011',\n",
       " 'property_size': '7497',\n",
       " 'home_size': '1536',\n",
       " 'bathrooms': '2.25',\n",
       " 'bedrooms': '3',\n",
       " 'last_sold_date': '07/26/2019',\n",
       " 'last_sold_price': '1152000',\n",
       " 'zestimate_amount': '1198002',\n",
       " 'zestimate_last_updated': '07/22/2019',\n",
       " 'zestimate_value_change': '35338',\n",
       " 'zestimate_valuation_range_high': '1257902',\n",
       " 'zestimate_valuationRange_low': '1138102',\n",
       " 'zestimate_percentile': '0'}"
      ]
     },
     "execution_count": 26,
     "metadata": {},
     "output_type": "execute_result"
    }
   ],
   "source": []
  },
  {
   "cell_type": "markdown",
   "metadata": {},
   "source": [
    "## Function that gets the metadata and gives all the details about the location"
   ]
  },
  {
   "cell_type": "code",
   "execution_count": 27,
   "metadata": {},
   "outputs": [],
   "source": [
    "def master_query(img_file):\n",
    "    exif = get_exif(img_file)\n",
    "    tags = get_geotagging(exif)\n",
    "    location = f\"{to_degrees(tags['GPSLongitude'], tags['GPSLongitudeRef'])},{to_degrees(tags['GPSLatitude'], tags['GPSLatitudeRef'])}\"\n",
    "    \n",
    "    google_view = google_streetviewer(location, key= credential['google-api-key'])\n",
    "    \n",
    "    address = reverse_lookup(float(location.split(\",\")[1]),float(location.split(\",\")[0]), credential['google-api-key'])\n",
    "    \n",
    "    details = zillow_query(credential['zillow-api-key'],address[0],address[1])\n",
    "    details_dict = details.__dict__\n",
    "    keys = ['zillow_id','home_type','year_built','property_size','home_size',\n",
    "            'bathrooms','bedrooms','last_sold_date','last_sold_price','zestimate_amount']\n",
    "    dict_outcome= {k:details_dict[k] for k in keys if k in details_dict}\n",
    "    return dict_outcome\n",
    "    \n",
    "    \n",
    "    "
   ]
  },
  {
   "cell_type": "code",
   "execution_count": 31,
   "metadata": {},
   "outputs": [],
   "source": [
    "master_results = master_query('picture/croft.JPG')"
   ]
  },
  {
   "cell_type": "code",
   "execution_count": 36,
   "metadata": {},
   "outputs": [
    {
     "data": {
      "text/plain": [
       "{'zillow_id': '2084418238',\n",
       " 'home_type': 'Condominium',\n",
       " 'year_built': '2011',\n",
       " 'property_size': '7497',\n",
       " 'home_size': '1536',\n",
       " 'bathrooms': '3.0',\n",
       " 'bedrooms': '3',\n",
       " 'last_sold_date': '02/28/2012',\n",
       " 'last_sold_price': '609000',\n",
       " 'zestimate_amount': '1198007'}"
      ]
     },
     "execution_count": 36,
     "metadata": {},
     "output_type": "execute_result"
    }
   ],
   "source": [
    "master_results"
   ]
  },
  {
   "cell_type": "code",
   "execution_count": 35,
   "metadata": {},
   "outputs": [
    {
     "data": {
      "text/plain": [
       "'Condominium'"
      ]
     },
     "execution_count": 35,
     "metadata": {},
     "output_type": "execute_result"
    }
   ],
   "source": [
    "master_results['home_type']"
   ]
  }
 ],
 "metadata": {
  "kernelspec": {
   "display_name": "Python 3",
   "language": "python",
   "name": "python3"
  },
  "language_info": {
   "codemirror_mode": {
    "name": "ipython",
    "version": 3
   },
   "file_extension": ".py",
   "mimetype": "text/x-python",
   "name": "python",
   "nbconvert_exporter": "python",
   "pygments_lexer": "ipython3",
   "version": "3.7.3"
  }
 },
 "nbformat": 4,
 "nbformat_minor": 2
}
